{
  "nbformat": 4,
  "nbformat_minor": 0,
  "metadata": {
    "colab": {
      "provenance": [],
      "authorship_tag": "ABX9TyPquUYY25pn4Ea3WTOQE6qO"
    },
    "kernelspec": {
      "name": "python3",
      "display_name": "Python 3"
    },
    "language_info": {
      "name": "python"
    }
  },
  "cells": [
    {
      "cell_type": "code",
      "execution_count": 27,
      "metadata": {
        "id": "boXjKLwtqfW2"
      },
      "outputs": [],
      "source": [
        "import pandas as pd"
      ]
    },
    {
      "cell_type": "code",
      "source": [
        "from google.colab import drive\n",
        "\n",
        "drive.mount('/content/drive')"
      ],
      "metadata": {
        "colab": {
          "base_uri": "https://localhost:8080/"
        },
        "id": "L55Ffr4rqg3q",
        "outputId": "252022a7-44f0-4663-e29a-70c7a091b85a"
      },
      "execution_count": 2,
      "outputs": [
        {
          "output_type": "stream",
          "name": "stdout",
          "text": [
            "Drive already mounted at /content/drive; to attempt to forcibly remount, call drive.mount(\"/content/drive\", force_remount=True).\n"
          ]
        }
      ]
    },
    {
      "cell_type": "code",
      "source": [
        "import os\n",
        "\n",
        "os.getcwd()"
      ],
      "metadata": {
        "colab": {
          "base_uri": "https://localhost:8080/",
          "height": 35
        },
        "id": "xBteJjkJxE-Q",
        "outputId": "13de53ec-1b2e-4596-c166-a18f7bbcae1f"
      },
      "execution_count": 3,
      "outputs": [
        {
          "output_type": "execute_result",
          "data": {
            "text/plain": [
              "'/content'"
            ],
            "application/vnd.google.colaboratory.intrinsic+json": {
              "type": "string"
            }
          },
          "metadata": {},
          "execution_count": 3
        }
      ]
    },
    {
      "cell_type": "code",
      "source": [
        "file_path = '/content/drive/MyDrive/GHC/combined.csv'\n",
        "\n",
        "data = pd.read_csv(file_path)\n",
        "data.head()"
      ],
      "metadata": {
        "colab": {
          "base_uri": "https://localhost:8080/",
          "height": 705
        },
        "id": "i2hMyuQ6rNVl",
        "outputId": "0dcb57e7-86a9-4c34-8a45-b2c91c90f82f"
      },
      "execution_count": 4,
      "outputs": [
        {
          "output_type": "execute_result",
          "data": {
            "text/plain": [
              "   Unnamed: 0.1  Unnamed: 0           id                           node_id  \\\n",
              "0             0           0   45717250.0  MDEwOlJlcG9zaXRvcnk0NTcxNzI1MA==   \n",
              "1             1           1   20580498.0  MDEwOlJlcG9zaXRvcnkyMDU4MDQ5OA==   \n",
              "2             2           2  155220641.0  MDEwOlJlcG9zaXRvcnkxNTUyMjA2NDE=   \n",
              "3             3           3   20929025.0  MDEwOlJlcG9zaXRvcnkyMDkyOTAyNQ==   \n",
              "4             4           4   90796663.0  MDEwOlJlcG9zaXRvcnk5MDc5NjY2Mw==   \n",
              "\n",
              "           name                 full_name  private  \\\n",
              "0    tensorflow     tensorflow/tensorflow    False   \n",
              "1    kubernetes     kubernetes/kubernetes    False   \n",
              "2  transformers  huggingface/transformers    False   \n",
              "3    TypeScript      microsoft/TypeScript    False   \n",
              "4     puppeteer       puppeteer/puppeteer    False   \n",
              "\n",
              "                                               owner  \\\n",
              "0  {'login': 'tensorflow', 'id': 15658638, 'node_...   \n",
              "1  {'login': 'kubernetes', 'id': 13629408, 'node_...   \n",
              "2  {'login': 'huggingface', 'id': 25720743, 'node...   \n",
              "3  {'login': 'microsoft', 'id': 6154722, 'node_id...   \n",
              "4  {'login': 'puppeteer', 'id': 6906516, 'node_id...   \n",
              "\n",
              "                                      html_url  \\\n",
              "0     https://github.com/tensorflow/tensorflow   \n",
              "1     https://github.com/kubernetes/kubernetes   \n",
              "2  https://github.com/huggingface/transformers   \n",
              "3      https://github.com/microsoft/TypeScript   \n",
              "4       https://github.com/puppeteer/puppeteer   \n",
              "\n",
              "                                         description  ...  visibility  \\\n",
              "0  An Open Source Machine Learning Framework for ...  ...      public   \n",
              "1  Production-Grade Container Scheduling and Mana...  ...      public   \n",
              "2  🤗 Transformers: State-of-the-art Machine Learn...  ...      public   \n",
              "3  TypeScript is a superset of JavaScript that co...  ...      public   \n",
              "4                        Headless Chrome Node.js API  ...      public   \n",
              "\n",
              "     forks open_issues  watchers default_branch  \\\n",
              "0  88114.0      2215.0  173347.0         master   \n",
              "1  35808.0      2488.0   97465.0         master   \n",
              "2  19594.0       672.0   93068.0           main   \n",
              "3  11680.0      6113.0   90379.0           main   \n",
              "4   8877.0       267.0   82710.0           main   \n",
              "\n",
              "                                         permissions score  \\\n",
              "0  {'admin': False, 'maintain': False, 'push': Fa...   1.0   \n",
              "1  {'admin': False, 'maintain': False, 'push': Fa...   1.0   \n",
              "2  {'admin': False, 'maintain': False, 'push': Fa...   1.0   \n",
              "3  {'admin': False, 'maintain': False, 'push': Fa...   1.0   \n",
              "4  {'admin': False, 'maintain': False, 'push': Fa...   1.0   \n",
              "\n",
              "                                           lang_name  \\\n",
              "0  ['C++', 'Python', 'MLIR', 'Starlark', 'HTML', ...   \n",
              "1  ['Go', 'Shell', 'PowerShell', 'Makefile', 'Doc...   \n",
              "2  ['Python', 'Cuda', 'Shell', 'Dockerfile', 'C++...   \n",
              "3  ['TypeScript', 'JavaScript', 'Dockerfile', 'Sh...   \n",
              "4  ['TypeScript', 'JavaScript', 'HTML', 'CSS', 'D...   \n",
              "\n",
              "                                           lang_perc license_name  \n",
              "0  [132085955, 43756548, 13081861, 8619986, 46864...   Apache-2.0  \n",
              "1  [66223236, 1836554, 144474, 63695, 49417, 2373...   Apache-2.0  \n",
              "2  [42853265, 175419, 30374, 20516, 12959, 6021, ...   Apache-2.0  \n",
              "3                        [87865774, 198563, 330, 53]   Apache-2.0  \n",
              "4          [1859434, 112872, 25585, 6581, 1574, 600]   Apache-2.0  \n",
              "\n",
              "[5 rows x 86 columns]"
            ],
            "text/html": [
              "\n",
              "  <div id=\"df-1457a32c-1e1b-413a-80eb-2efa19f7a02f\">\n",
              "    <div class=\"colab-df-container\">\n",
              "      <div>\n",
              "<style scoped>\n",
              "    .dataframe tbody tr th:only-of-type {\n",
              "        vertical-align: middle;\n",
              "    }\n",
              "\n",
              "    .dataframe tbody tr th {\n",
              "        vertical-align: top;\n",
              "    }\n",
              "\n",
              "    .dataframe thead th {\n",
              "        text-align: right;\n",
              "    }\n",
              "</style>\n",
              "<table border=\"1\" class=\"dataframe\">\n",
              "  <thead>\n",
              "    <tr style=\"text-align: right;\">\n",
              "      <th></th>\n",
              "      <th>Unnamed: 0.1</th>\n",
              "      <th>Unnamed: 0</th>\n",
              "      <th>id</th>\n",
              "      <th>node_id</th>\n",
              "      <th>name</th>\n",
              "      <th>full_name</th>\n",
              "      <th>private</th>\n",
              "      <th>owner</th>\n",
              "      <th>html_url</th>\n",
              "      <th>description</th>\n",
              "      <th>...</th>\n",
              "      <th>visibility</th>\n",
              "      <th>forks</th>\n",
              "      <th>open_issues</th>\n",
              "      <th>watchers</th>\n",
              "      <th>default_branch</th>\n",
              "      <th>permissions</th>\n",
              "      <th>score</th>\n",
              "      <th>lang_name</th>\n",
              "      <th>lang_perc</th>\n",
              "      <th>license_name</th>\n",
              "    </tr>\n",
              "  </thead>\n",
              "  <tbody>\n",
              "    <tr>\n",
              "      <th>0</th>\n",
              "      <td>0</td>\n",
              "      <td>0</td>\n",
              "      <td>45717250.0</td>\n",
              "      <td>MDEwOlJlcG9zaXRvcnk0NTcxNzI1MA==</td>\n",
              "      <td>tensorflow</td>\n",
              "      <td>tensorflow/tensorflow</td>\n",
              "      <td>False</td>\n",
              "      <td>{'login': 'tensorflow', 'id': 15658638, 'node_...</td>\n",
              "      <td>https://github.com/tensorflow/tensorflow</td>\n",
              "      <td>An Open Source Machine Learning Framework for ...</td>\n",
              "      <td>...</td>\n",
              "      <td>public</td>\n",
              "      <td>88114.0</td>\n",
              "      <td>2215.0</td>\n",
              "      <td>173347.0</td>\n",
              "      <td>master</td>\n",
              "      <td>{'admin': False, 'maintain': False, 'push': Fa...</td>\n",
              "      <td>1.0</td>\n",
              "      <td>['C++', 'Python', 'MLIR', 'Starlark', 'HTML', ...</td>\n",
              "      <td>[132085955, 43756548, 13081861, 8619986, 46864...</td>\n",
              "      <td>Apache-2.0</td>\n",
              "    </tr>\n",
              "    <tr>\n",
              "      <th>1</th>\n",
              "      <td>1</td>\n",
              "      <td>1</td>\n",
              "      <td>20580498.0</td>\n",
              "      <td>MDEwOlJlcG9zaXRvcnkyMDU4MDQ5OA==</td>\n",
              "      <td>kubernetes</td>\n",
              "      <td>kubernetes/kubernetes</td>\n",
              "      <td>False</td>\n",
              "      <td>{'login': 'kubernetes', 'id': 13629408, 'node_...</td>\n",
              "      <td>https://github.com/kubernetes/kubernetes</td>\n",
              "      <td>Production-Grade Container Scheduling and Mana...</td>\n",
              "      <td>...</td>\n",
              "      <td>public</td>\n",
              "      <td>35808.0</td>\n",
              "      <td>2488.0</td>\n",
              "      <td>97465.0</td>\n",
              "      <td>master</td>\n",
              "      <td>{'admin': False, 'maintain': False, 'push': Fa...</td>\n",
              "      <td>1.0</td>\n",
              "      <td>['Go', 'Shell', 'PowerShell', 'Makefile', 'Doc...</td>\n",
              "      <td>[66223236, 1836554, 144474, 63695, 49417, 2373...</td>\n",
              "      <td>Apache-2.0</td>\n",
              "    </tr>\n",
              "    <tr>\n",
              "      <th>2</th>\n",
              "      <td>2</td>\n",
              "      <td>2</td>\n",
              "      <td>155220641.0</td>\n",
              "      <td>MDEwOlJlcG9zaXRvcnkxNTUyMjA2NDE=</td>\n",
              "      <td>transformers</td>\n",
              "      <td>huggingface/transformers</td>\n",
              "      <td>False</td>\n",
              "      <td>{'login': 'huggingface', 'id': 25720743, 'node...</td>\n",
              "      <td>https://github.com/huggingface/transformers</td>\n",
              "      <td>🤗 Transformers: State-of-the-art Machine Learn...</td>\n",
              "      <td>...</td>\n",
              "      <td>public</td>\n",
              "      <td>19594.0</td>\n",
              "      <td>672.0</td>\n",
              "      <td>93068.0</td>\n",
              "      <td>main</td>\n",
              "      <td>{'admin': False, 'maintain': False, 'push': Fa...</td>\n",
              "      <td>1.0</td>\n",
              "      <td>['Python', 'Cuda', 'Shell', 'Dockerfile', 'C++...</td>\n",
              "      <td>[42853265, 175419, 30374, 20516, 12959, 6021, ...</td>\n",
              "      <td>Apache-2.0</td>\n",
              "    </tr>\n",
              "    <tr>\n",
              "      <th>3</th>\n",
              "      <td>3</td>\n",
              "      <td>3</td>\n",
              "      <td>20929025.0</td>\n",
              "      <td>MDEwOlJlcG9zaXRvcnkyMDkyOTAyNQ==</td>\n",
              "      <td>TypeScript</td>\n",
              "      <td>microsoft/TypeScript</td>\n",
              "      <td>False</td>\n",
              "      <td>{'login': 'microsoft', 'id': 6154722, 'node_id...</td>\n",
              "      <td>https://github.com/microsoft/TypeScript</td>\n",
              "      <td>TypeScript is a superset of JavaScript that co...</td>\n",
              "      <td>...</td>\n",
              "      <td>public</td>\n",
              "      <td>11680.0</td>\n",
              "      <td>6113.0</td>\n",
              "      <td>90379.0</td>\n",
              "      <td>main</td>\n",
              "      <td>{'admin': False, 'maintain': False, 'push': Fa...</td>\n",
              "      <td>1.0</td>\n",
              "      <td>['TypeScript', 'JavaScript', 'Dockerfile', 'Sh...</td>\n",
              "      <td>[87865774, 198563, 330, 53]</td>\n",
              "      <td>Apache-2.0</td>\n",
              "    </tr>\n",
              "    <tr>\n",
              "      <th>4</th>\n",
              "      <td>4</td>\n",
              "      <td>4</td>\n",
              "      <td>90796663.0</td>\n",
              "      <td>MDEwOlJlcG9zaXRvcnk5MDc5NjY2Mw==</td>\n",
              "      <td>puppeteer</td>\n",
              "      <td>puppeteer/puppeteer</td>\n",
              "      <td>False</td>\n",
              "      <td>{'login': 'puppeteer', 'id': 6906516, 'node_id...</td>\n",
              "      <td>https://github.com/puppeteer/puppeteer</td>\n",
              "      <td>Headless Chrome Node.js API</td>\n",
              "      <td>...</td>\n",
              "      <td>public</td>\n",
              "      <td>8877.0</td>\n",
              "      <td>267.0</td>\n",
              "      <td>82710.0</td>\n",
              "      <td>main</td>\n",
              "      <td>{'admin': False, 'maintain': False, 'push': Fa...</td>\n",
              "      <td>1.0</td>\n",
              "      <td>['TypeScript', 'JavaScript', 'HTML', 'CSS', 'D...</td>\n",
              "      <td>[1859434, 112872, 25585, 6581, 1574, 600]</td>\n",
              "      <td>Apache-2.0</td>\n",
              "    </tr>\n",
              "  </tbody>\n",
              "</table>\n",
              "<p>5 rows × 86 columns</p>\n",
              "</div>\n",
              "      <button class=\"colab-df-convert\" onclick=\"convertToInteractive('df-1457a32c-1e1b-413a-80eb-2efa19f7a02f')\"\n",
              "              title=\"Convert this dataframe to an interactive table.\"\n",
              "              style=\"display:none;\">\n",
              "        \n",
              "  <svg xmlns=\"http://www.w3.org/2000/svg\" height=\"24px\"viewBox=\"0 0 24 24\"\n",
              "       width=\"24px\">\n",
              "    <path d=\"M0 0h24v24H0V0z\" fill=\"none\"/>\n",
              "    <path d=\"M18.56 5.44l.94 2.06.94-2.06 2.06-.94-2.06-.94-.94-2.06-.94 2.06-2.06.94zm-11 1L8.5 8.5l.94-2.06 2.06-.94-2.06-.94L8.5 2.5l-.94 2.06-2.06.94zm10 10l.94 2.06.94-2.06 2.06-.94-2.06-.94-.94-2.06-.94 2.06-2.06.94z\"/><path d=\"M17.41 7.96l-1.37-1.37c-.4-.4-.92-.59-1.43-.59-.52 0-1.04.2-1.43.59L10.3 9.45l-7.72 7.72c-.78.78-.78 2.05 0 2.83L4 21.41c.39.39.9.59 1.41.59.51 0 1.02-.2 1.41-.59l7.78-7.78 2.81-2.81c.8-.78.8-2.07 0-2.86zM5.41 20L4 18.59l7.72-7.72 1.47 1.35L5.41 20z\"/>\n",
              "  </svg>\n",
              "      </button>\n",
              "      \n",
              "  <style>\n",
              "    .colab-df-container {\n",
              "      display:flex;\n",
              "      flex-wrap:wrap;\n",
              "      gap: 12px;\n",
              "    }\n",
              "\n",
              "    .colab-df-convert {\n",
              "      background-color: #E8F0FE;\n",
              "      border: none;\n",
              "      border-radius: 50%;\n",
              "      cursor: pointer;\n",
              "      display: none;\n",
              "      fill: #1967D2;\n",
              "      height: 32px;\n",
              "      padding: 0 0 0 0;\n",
              "      width: 32px;\n",
              "    }\n",
              "\n",
              "    .colab-df-convert:hover {\n",
              "      background-color: #E2EBFA;\n",
              "      box-shadow: 0px 1px 2px rgba(60, 64, 67, 0.3), 0px 1px 3px 1px rgba(60, 64, 67, 0.15);\n",
              "      fill: #174EA6;\n",
              "    }\n",
              "\n",
              "    [theme=dark] .colab-df-convert {\n",
              "      background-color: #3B4455;\n",
              "      fill: #D2E3FC;\n",
              "    }\n",
              "\n",
              "    [theme=dark] .colab-df-convert:hover {\n",
              "      background-color: #434B5C;\n",
              "      box-shadow: 0px 1px 3px 1px rgba(0, 0, 0, 0.15);\n",
              "      filter: drop-shadow(0px 1px 2px rgba(0, 0, 0, 0.3));\n",
              "      fill: #FFFFFF;\n",
              "    }\n",
              "  </style>\n",
              "\n",
              "      <script>\n",
              "        const buttonEl =\n",
              "          document.querySelector('#df-1457a32c-1e1b-413a-80eb-2efa19f7a02f button.colab-df-convert');\n",
              "        buttonEl.style.display =\n",
              "          google.colab.kernel.accessAllowed ? 'block' : 'none';\n",
              "\n",
              "        async function convertToInteractive(key) {\n",
              "          const element = document.querySelector('#df-1457a32c-1e1b-413a-80eb-2efa19f7a02f');\n",
              "          const dataTable =\n",
              "            await google.colab.kernel.invokeFunction('convertToInteractive',\n",
              "                                                     [key], {});\n",
              "          if (!dataTable) return;\n",
              "\n",
              "          const docLinkHtml = 'Like what you see? Visit the ' +\n",
              "            '<a target=\"_blank\" href=https://colab.research.google.com/notebooks/data_table.ipynb>data table notebook</a>'\n",
              "            + ' to learn more about interactive tables.';\n",
              "          element.innerHTML = '';\n",
              "          dataTable['output_type'] = 'display_data';\n",
              "          await google.colab.output.renderOutput(dataTable, element);\n",
              "          const docLink = document.createElement('div');\n",
              "          docLink.innerHTML = docLinkHtml;\n",
              "          element.appendChild(docLink);\n",
              "        }\n",
              "      </script>\n",
              "    </div>\n",
              "  </div>\n",
              "  "
            ]
          },
          "metadata": {},
          "execution_count": 4
        }
      ]
    },
    {
      "cell_type": "code",
      "source": [
        "data.columns"
      ],
      "metadata": {
        "colab": {
          "base_uri": "https://localhost:8080/"
        },
        "id": "FoInMb0Crise",
        "outputId": "34ec745f-2249-4024-dd99-adfbb86bf121"
      },
      "execution_count": 5,
      "outputs": [
        {
          "output_type": "execute_result",
          "data": {
            "text/plain": [
              "Index(['Unnamed: 0.1', 'Unnamed: 0', 'id', 'node_id', 'name', 'full_name',\n",
              "       'private', 'owner', 'html_url', 'description', 'fork', 'url',\n",
              "       'forks_url', 'keys_url', 'collaborators_url', 'teams_url', 'hooks_url',\n",
              "       'issue_events_url', 'events_url', 'assignees_url', 'branches_url',\n",
              "       'tags_url', 'blobs_url', 'git_tags_url', 'git_refs_url', 'trees_url',\n",
              "       'statuses_url', 'languages_url', 'stargazers_url', 'contributors_url',\n",
              "       'subscribers_url', 'subscription_url', 'commits_url', 'git_commits_url',\n",
              "       'comments_url', 'issue_comment_url', 'contents_url', 'compare_url',\n",
              "       'merges_url', 'archive_url', 'downloads_url', 'issues_url', 'pulls_url',\n",
              "       'milestones_url', 'notifications_url', 'labels_url', 'releases_url',\n",
              "       'deployments_url', 'created_at', 'updated_at', 'pushed_at', 'git_url',\n",
              "       'ssh_url', 'clone_url', 'svn_url', 'homepage', 'size',\n",
              "       'stargazers_count', 'watchers_count', 'language', 'has_issues',\n",
              "       'has_projects', 'has_downloads', 'has_wiki', 'has_pages',\n",
              "       'has_discussions', 'forks_count', 'mirror_url', 'archived', 'disabled',\n",
              "       'open_issues_count', 'license', 'allow_forking', 'is_template',\n",
              "       'web_commit_signoff_required', 'topics', 'visibility', 'forks',\n",
              "       'open_issues', 'watchers', 'default_branch', 'permissions', 'score',\n",
              "       'lang_name', 'lang_perc', 'license_name'],\n",
              "      dtype='object')"
            ]
          },
          "metadata": {},
          "execution_count": 5
        }
      ]
    },
    {
      "cell_type": "code",
      "source": [
        "import ast\n",
        "topics = data[\"topics\"]\n",
        "all_topics_list = list()\n",
        "all_topics = set()\n",
        "for topic in topics:\n",
        "  topic = ast.literal_eval(topic)\n",
        "  all_topics_list.append(topic)\n",
        "  all_topics = all_topics.union(topic)\n",
        "\n",
        "print(len(all_topics))\n",
        "print(len(all_topics_list))"
      ],
      "metadata": {
        "colab": {
          "base_uri": "https://localhost:8080/"
        },
        "id": "vpS9qYhV5BMT",
        "outputId": "7c32e32b-6847-40b7-c1be-f8ca37c151c8"
      },
      "execution_count": 7,
      "outputs": [
        {
          "output_type": "stream",
          "name": "stdout",
          "text": [
            "5150\n",
            "1795\n"
          ]
        }
      ]
    },
    {
      "cell_type": "code",
      "source": [
        "from sklearn.preprocessing import MultiLabelBinarizer\n",
        "\n",
        "# Initialize the MultiLabelBinarizer with the topic labels\n",
        "mlb = MultiLabelBinarizer(classes=list(all_topics))\n",
        "\n",
        "# Perform multi-hot encoding on the topic labels for each repository\n",
        "X = mlb.fit_transform([topics for topics in all_topics_list])\n",
        "X = pd.DataFrame(X, columns=list(all_topics))"
      ],
      "metadata": {
        "id": "zxYiT6JS6jnp"
      },
      "execution_count": 8,
      "outputs": []
    },
    {
      "cell_type": "code",
      "source": [
        "all_topics_list[0]"
      ],
      "metadata": {
        "colab": {
          "base_uri": "https://localhost:8080/"
        },
        "id": "_2lpxnhVQc1N",
        "outputId": "8a967eb1-520e-4458-b092-abff84c26e57"
      },
      "execution_count": 9,
      "outputs": [
        {
          "output_type": "execute_result",
          "data": {
            "text/plain": [
              "['deep-learning',\n",
              " 'deep-neural-networks',\n",
              " 'distributed',\n",
              " 'machine-learning',\n",
              " 'ml',\n",
              " 'neural-network',\n",
              " 'python',\n",
              " 'tensorflow']"
            ]
          },
          "metadata": {},
          "execution_count": 9
        }
      ]
    },
    {
      "cell_type": "code",
      "source": [
        "X.head(1)"
      ],
      "metadata": {
        "colab": {
          "base_uri": "https://localhost:8080/",
          "height": 207
        },
        "id": "5N2A9fV9Qzrd",
        "outputId": "c54b9431-5214-4d84-e835-2e3b23e5ff73"
      },
      "execution_count": 10,
      "outputs": [
        {
          "output_type": "execute_result",
          "data": {
            "text/plain": [
              "   sites  postgresql  lts  coco  deepfake  storage  sap-hana  ocr-engine  \\\n",
              "0      0           0    0     0         0        0         0           0   \n",
              "\n",
              "   rbac  request  ...  redteaming  scalable  request-routing  \\\n",
              "0     0        0  ...           0         0                0   \n",
              "\n",
              "   ip-address-database  gfwlist  software-architecture  scientific-computing  \\\n",
              "0                    0        0                      0                     0   \n",
              "\n",
              "   colors  videos  animation-library  \n",
              "0       0       0                  0  \n",
              "\n",
              "[1 rows x 5150 columns]"
            ],
            "text/html": [
              "\n",
              "  <div id=\"df-37d47083-ac92-410e-885a-79aa1ea054a2\">\n",
              "    <div class=\"colab-df-container\">\n",
              "      <div>\n",
              "<style scoped>\n",
              "    .dataframe tbody tr th:only-of-type {\n",
              "        vertical-align: middle;\n",
              "    }\n",
              "\n",
              "    .dataframe tbody tr th {\n",
              "        vertical-align: top;\n",
              "    }\n",
              "\n",
              "    .dataframe thead th {\n",
              "        text-align: right;\n",
              "    }\n",
              "</style>\n",
              "<table border=\"1\" class=\"dataframe\">\n",
              "  <thead>\n",
              "    <tr style=\"text-align: right;\">\n",
              "      <th></th>\n",
              "      <th>sites</th>\n",
              "      <th>postgresql</th>\n",
              "      <th>lts</th>\n",
              "      <th>coco</th>\n",
              "      <th>deepfake</th>\n",
              "      <th>storage</th>\n",
              "      <th>sap-hana</th>\n",
              "      <th>ocr-engine</th>\n",
              "      <th>rbac</th>\n",
              "      <th>request</th>\n",
              "      <th>...</th>\n",
              "      <th>redteaming</th>\n",
              "      <th>scalable</th>\n",
              "      <th>request-routing</th>\n",
              "      <th>ip-address-database</th>\n",
              "      <th>gfwlist</th>\n",
              "      <th>software-architecture</th>\n",
              "      <th>scientific-computing</th>\n",
              "      <th>colors</th>\n",
              "      <th>videos</th>\n",
              "      <th>animation-library</th>\n",
              "    </tr>\n",
              "  </thead>\n",
              "  <tbody>\n",
              "    <tr>\n",
              "      <th>0</th>\n",
              "      <td>0</td>\n",
              "      <td>0</td>\n",
              "      <td>0</td>\n",
              "      <td>0</td>\n",
              "      <td>0</td>\n",
              "      <td>0</td>\n",
              "      <td>0</td>\n",
              "      <td>0</td>\n",
              "      <td>0</td>\n",
              "      <td>0</td>\n",
              "      <td>...</td>\n",
              "      <td>0</td>\n",
              "      <td>0</td>\n",
              "      <td>0</td>\n",
              "      <td>0</td>\n",
              "      <td>0</td>\n",
              "      <td>0</td>\n",
              "      <td>0</td>\n",
              "      <td>0</td>\n",
              "      <td>0</td>\n",
              "      <td>0</td>\n",
              "    </tr>\n",
              "  </tbody>\n",
              "</table>\n",
              "<p>1 rows × 5150 columns</p>\n",
              "</div>\n",
              "      <button class=\"colab-df-convert\" onclick=\"convertToInteractive('df-37d47083-ac92-410e-885a-79aa1ea054a2')\"\n",
              "              title=\"Convert this dataframe to an interactive table.\"\n",
              "              style=\"display:none;\">\n",
              "        \n",
              "  <svg xmlns=\"http://www.w3.org/2000/svg\" height=\"24px\"viewBox=\"0 0 24 24\"\n",
              "       width=\"24px\">\n",
              "    <path d=\"M0 0h24v24H0V0z\" fill=\"none\"/>\n",
              "    <path d=\"M18.56 5.44l.94 2.06.94-2.06 2.06-.94-2.06-.94-.94-2.06-.94 2.06-2.06.94zm-11 1L8.5 8.5l.94-2.06 2.06-.94-2.06-.94L8.5 2.5l-.94 2.06-2.06.94zm10 10l.94 2.06.94-2.06 2.06-.94-2.06-.94-.94-2.06-.94 2.06-2.06.94z\"/><path d=\"M17.41 7.96l-1.37-1.37c-.4-.4-.92-.59-1.43-.59-.52 0-1.04.2-1.43.59L10.3 9.45l-7.72 7.72c-.78.78-.78 2.05 0 2.83L4 21.41c.39.39.9.59 1.41.59.51 0 1.02-.2 1.41-.59l7.78-7.78 2.81-2.81c.8-.78.8-2.07 0-2.86zM5.41 20L4 18.59l7.72-7.72 1.47 1.35L5.41 20z\"/>\n",
              "  </svg>\n",
              "      </button>\n",
              "      \n",
              "  <style>\n",
              "    .colab-df-container {\n",
              "      display:flex;\n",
              "      flex-wrap:wrap;\n",
              "      gap: 12px;\n",
              "    }\n",
              "\n",
              "    .colab-df-convert {\n",
              "      background-color: #E8F0FE;\n",
              "      border: none;\n",
              "      border-radius: 50%;\n",
              "      cursor: pointer;\n",
              "      display: none;\n",
              "      fill: #1967D2;\n",
              "      height: 32px;\n",
              "      padding: 0 0 0 0;\n",
              "      width: 32px;\n",
              "    }\n",
              "\n",
              "    .colab-df-convert:hover {\n",
              "      background-color: #E2EBFA;\n",
              "      box-shadow: 0px 1px 2px rgba(60, 64, 67, 0.3), 0px 1px 3px 1px rgba(60, 64, 67, 0.15);\n",
              "      fill: #174EA6;\n",
              "    }\n",
              "\n",
              "    [theme=dark] .colab-df-convert {\n",
              "      background-color: #3B4455;\n",
              "      fill: #D2E3FC;\n",
              "    }\n",
              "\n",
              "    [theme=dark] .colab-df-convert:hover {\n",
              "      background-color: #434B5C;\n",
              "      box-shadow: 0px 1px 3px 1px rgba(0, 0, 0, 0.15);\n",
              "      filter: drop-shadow(0px 1px 2px rgba(0, 0, 0, 0.3));\n",
              "      fill: #FFFFFF;\n",
              "    }\n",
              "  </style>\n",
              "\n",
              "      <script>\n",
              "        const buttonEl =\n",
              "          document.querySelector('#df-37d47083-ac92-410e-885a-79aa1ea054a2 button.colab-df-convert');\n",
              "        buttonEl.style.display =\n",
              "          google.colab.kernel.accessAllowed ? 'block' : 'none';\n",
              "\n",
              "        async function convertToInteractive(key) {\n",
              "          const element = document.querySelector('#df-37d47083-ac92-410e-885a-79aa1ea054a2');\n",
              "          const dataTable =\n",
              "            await google.colab.kernel.invokeFunction('convertToInteractive',\n",
              "                                                     [key], {});\n",
              "          if (!dataTable) return;\n",
              "\n",
              "          const docLinkHtml = 'Like what you see? Visit the ' +\n",
              "            '<a target=\"_blank\" href=https://colab.research.google.com/notebooks/data_table.ipynb>data table notebook</a>'\n",
              "            + ' to learn more about interactive tables.';\n",
              "          element.innerHTML = '';\n",
              "          dataTable['output_type'] = 'display_data';\n",
              "          await google.colab.output.renderOutput(dataTable, element);\n",
              "          const docLink = document.createElement('div');\n",
              "          docLink.innerHTML = docLinkHtml;\n",
              "          element.appendChild(docLink);\n",
              "        }\n",
              "      </script>\n",
              "    </div>\n",
              "  </div>\n",
              "  "
            ]
          },
          "metadata": {},
          "execution_count": 10
        }
      ]
    },
    {
      "cell_type": "code",
      "source": [
        "X.head(1)[['deep-learning',\n",
        " 'deep-neural-networks',\n",
        " 'distributed',\n",
        " 'machine-learning',\n",
        " 'ml',\n",
        " 'neural-network',\n",
        " 'python',\n",
        " 'tensorflow']]"
      ],
      "metadata": {
        "colab": {
          "base_uri": "https://localhost:8080/",
          "height": 80
        },
        "id": "cT3qrse_Pf7h",
        "outputId": "82251fe4-3cf1-422e-f4c0-afd8b21069dc"
      },
      "execution_count": 11,
      "outputs": [
        {
          "output_type": "execute_result",
          "data": {
            "text/plain": [
              "   deep-learning  deep-neural-networks  distributed  machine-learning  ml  \\\n",
              "0              1                     1            1                 1   1   \n",
              "\n",
              "   neural-network  python  tensorflow  \n",
              "0               1       1           1  "
            ],
            "text/html": [
              "\n",
              "  <div id=\"df-382432d2-97e4-491e-826b-137302793bd0\">\n",
              "    <div class=\"colab-df-container\">\n",
              "      <div>\n",
              "<style scoped>\n",
              "    .dataframe tbody tr th:only-of-type {\n",
              "        vertical-align: middle;\n",
              "    }\n",
              "\n",
              "    .dataframe tbody tr th {\n",
              "        vertical-align: top;\n",
              "    }\n",
              "\n",
              "    .dataframe thead th {\n",
              "        text-align: right;\n",
              "    }\n",
              "</style>\n",
              "<table border=\"1\" class=\"dataframe\">\n",
              "  <thead>\n",
              "    <tr style=\"text-align: right;\">\n",
              "      <th></th>\n",
              "      <th>deep-learning</th>\n",
              "      <th>deep-neural-networks</th>\n",
              "      <th>distributed</th>\n",
              "      <th>machine-learning</th>\n",
              "      <th>ml</th>\n",
              "      <th>neural-network</th>\n",
              "      <th>python</th>\n",
              "      <th>tensorflow</th>\n",
              "    </tr>\n",
              "  </thead>\n",
              "  <tbody>\n",
              "    <tr>\n",
              "      <th>0</th>\n",
              "      <td>1</td>\n",
              "      <td>1</td>\n",
              "      <td>1</td>\n",
              "      <td>1</td>\n",
              "      <td>1</td>\n",
              "      <td>1</td>\n",
              "      <td>1</td>\n",
              "      <td>1</td>\n",
              "    </tr>\n",
              "  </tbody>\n",
              "</table>\n",
              "</div>\n",
              "      <button class=\"colab-df-convert\" onclick=\"convertToInteractive('df-382432d2-97e4-491e-826b-137302793bd0')\"\n",
              "              title=\"Convert this dataframe to an interactive table.\"\n",
              "              style=\"display:none;\">\n",
              "        \n",
              "  <svg xmlns=\"http://www.w3.org/2000/svg\" height=\"24px\"viewBox=\"0 0 24 24\"\n",
              "       width=\"24px\">\n",
              "    <path d=\"M0 0h24v24H0V0z\" fill=\"none\"/>\n",
              "    <path d=\"M18.56 5.44l.94 2.06.94-2.06 2.06-.94-2.06-.94-.94-2.06-.94 2.06-2.06.94zm-11 1L8.5 8.5l.94-2.06 2.06-.94-2.06-.94L8.5 2.5l-.94 2.06-2.06.94zm10 10l.94 2.06.94-2.06 2.06-.94-2.06-.94-.94-2.06-.94 2.06-2.06.94z\"/><path d=\"M17.41 7.96l-1.37-1.37c-.4-.4-.92-.59-1.43-.59-.52 0-1.04.2-1.43.59L10.3 9.45l-7.72 7.72c-.78.78-.78 2.05 0 2.83L4 21.41c.39.39.9.59 1.41.59.51 0 1.02-.2 1.41-.59l7.78-7.78 2.81-2.81c.8-.78.8-2.07 0-2.86zM5.41 20L4 18.59l7.72-7.72 1.47 1.35L5.41 20z\"/>\n",
              "  </svg>\n",
              "      </button>\n",
              "      \n",
              "  <style>\n",
              "    .colab-df-container {\n",
              "      display:flex;\n",
              "      flex-wrap:wrap;\n",
              "      gap: 12px;\n",
              "    }\n",
              "\n",
              "    .colab-df-convert {\n",
              "      background-color: #E8F0FE;\n",
              "      border: none;\n",
              "      border-radius: 50%;\n",
              "      cursor: pointer;\n",
              "      display: none;\n",
              "      fill: #1967D2;\n",
              "      height: 32px;\n",
              "      padding: 0 0 0 0;\n",
              "      width: 32px;\n",
              "    }\n",
              "\n",
              "    .colab-df-convert:hover {\n",
              "      background-color: #E2EBFA;\n",
              "      box-shadow: 0px 1px 2px rgba(60, 64, 67, 0.3), 0px 1px 3px 1px rgba(60, 64, 67, 0.15);\n",
              "      fill: #174EA6;\n",
              "    }\n",
              "\n",
              "    [theme=dark] .colab-df-convert {\n",
              "      background-color: #3B4455;\n",
              "      fill: #D2E3FC;\n",
              "    }\n",
              "\n",
              "    [theme=dark] .colab-df-convert:hover {\n",
              "      background-color: #434B5C;\n",
              "      box-shadow: 0px 1px 3px 1px rgba(0, 0, 0, 0.15);\n",
              "      filter: drop-shadow(0px 1px 2px rgba(0, 0, 0, 0.3));\n",
              "      fill: #FFFFFF;\n",
              "    }\n",
              "  </style>\n",
              "\n",
              "      <script>\n",
              "        const buttonEl =\n",
              "          document.querySelector('#df-382432d2-97e4-491e-826b-137302793bd0 button.colab-df-convert');\n",
              "        buttonEl.style.display =\n",
              "          google.colab.kernel.accessAllowed ? 'block' : 'none';\n",
              "\n",
              "        async function convertToInteractive(key) {\n",
              "          const element = document.querySelector('#df-382432d2-97e4-491e-826b-137302793bd0');\n",
              "          const dataTable =\n",
              "            await google.colab.kernel.invokeFunction('convertToInteractive',\n",
              "                                                     [key], {});\n",
              "          if (!dataTable) return;\n",
              "\n",
              "          const docLinkHtml = 'Like what you see? Visit the ' +\n",
              "            '<a target=\"_blank\" href=https://colab.research.google.com/notebooks/data_table.ipynb>data table notebook</a>'\n",
              "            + ' to learn more about interactive tables.';\n",
              "          element.innerHTML = '';\n",
              "          dataTable['output_type'] = 'display_data';\n",
              "          await google.colab.output.renderOutput(dataTable, element);\n",
              "          const docLink = document.createElement('div');\n",
              "          docLink.innerHTML = docLinkHtml;\n",
              "          element.appendChild(docLink);\n",
              "        }\n",
              "      </script>\n",
              "    </div>\n",
              "  </div>\n",
              "  "
            ]
          },
          "metadata": {},
          "execution_count": 11
        }
      ]
    },
    {
      "cell_type": "code",
      "source": [
        "X.shape"
      ],
      "metadata": {
        "colab": {
          "base_uri": "https://localhost:8080/"
        },
        "id": "JxRXzoWmP9Yr",
        "outputId": "e6f12d4f-a7be-4b84-c911-72e8cf217723"
      },
      "execution_count": 12,
      "outputs": [
        {
          "output_type": "execute_result",
          "data": {
            "text/plain": [
              "(1795, 5150)"
            ]
          },
          "metadata": {},
          "execution_count": 12
        }
      ]
    },
    {
      "cell_type": "code",
      "source": [
        "input_feature_vector = ['go']\n",
        "\n",
        "Y = mlb.transform([input_feature_vector])\n",
        "Y = pd.DataFrame(Y, columns=list(all_topics))"
      ],
      "metadata": {
        "id": "-9vQGXr_YbNl"
      },
      "execution_count": 17,
      "outputs": []
    },
    {
      "cell_type": "code",
      "source": [
        "Y[\"go\"]"
      ],
      "metadata": {
        "colab": {
          "base_uri": "https://localhost:8080/"
        },
        "id": "Lw87vh-1SM7_",
        "outputId": "46be23df-e954-40ad-ffc5-960e5da35c02"
      },
      "execution_count": 18,
      "outputs": [
        {
          "output_type": "execute_result",
          "data": {
            "text/plain": [
              "0    1\n",
              "Name: go, dtype: int64"
            ]
          },
          "metadata": {},
          "execution_count": 18
        }
      ]
    },
    {
      "cell_type": "code",
      "source": [
        "from sklearn.metrics.pairwise import cosine_similarity"
      ],
      "metadata": {
        "id": "Px6v3iwYQ3bP"
      },
      "execution_count": 15,
      "outputs": []
    },
    {
      "cell_type": "code",
      "source": [
        "# Calculate the cosine similarity between two repositories\n",
        "similarity_matrix = cosine_similarity(X, Y)\n",
        "similarity_matrix"
      ],
      "metadata": {
        "colab": {
          "base_uri": "https://localhost:8080/"
        },
        "id": "v_4j3zGJQ3YX",
        "outputId": "0cc55328-e175-47de-ac2b-87766d6756de"
      },
      "execution_count": 20,
      "outputs": [
        {
          "output_type": "execute_result",
          "data": {
            "text/plain": [
              "array([[0. ],\n",
              "       [0.5],\n",
              "       [0. ],\n",
              "       ...,\n",
              "       [0. ],\n",
              "       [0. ],\n",
              "       [0. ]])"
            ]
          },
          "metadata": {},
          "execution_count": 20
        }
      ]
    },
    {
      "cell_type": "code",
      "source": [
        "similarity_matrix.shape"
      ],
      "metadata": {
        "colab": {
          "base_uri": "https://localhost:8080/"
        },
        "id": "xMsVvJo3Xgw9",
        "outputId": "6b36729f-afea-49ba-dea1-3b771c6d91d8"
      },
      "execution_count": 24,
      "outputs": [
        {
          "output_type": "execute_result",
          "data": {
            "text/plain": [
              "(1795, 1)"
            ]
          },
          "metadata": {},
          "execution_count": 24
        }
      ]
    },
    {
      "cell_type": "code",
      "source": [
        "#Listing all the repos with \"go\" topics\n",
        "\n",
        "for i in range(len(all_topics_list)):\n",
        "  if similarity_matrix[i][0] > 0.5:\n",
        "    print(data.loc[i][\"full_name\"], \" = \", similarity_matrix[i][0])"
      ],
      "metadata": {
        "colab": {
          "base_uri": "https://localhost:8080/"
        },
        "id": "S5DxpeRoWhWX",
        "outputId": "a806de9c-1587-4f2f-e50b-569f01b6e7d2"
      },
      "execution_count": 26,
      "outputs": [
        {
          "output_type": "stream",
          "name": "stdout",
          "text": [
            "moby/moby  =  0.5773502691896258\n",
            "sirupsen/logrus  =  0.5773502691896258\n",
            "go-delve/delve  =  0.5773502691896258\n",
            "boltdb/bolt  =  0.5773502691896258\n",
            "hashicorp/vault  =  0.5773502691896258\n"
          ]
        }
      ]
    }
  ]
}